{
 "cells": [
  {
   "cell_type": "code",
   "execution_count": 63,
   "metadata": {},
   "outputs": [],
   "source": [
    "import numpy as np\n",
    "import matplotlib.pyplot as plt\n",
    "from tqdm import tqdm\n",
    "from scipy.sparse import diags_array,identity, kron\n",
    "from scipy.sparse.linalg import splu\n",
    "\n",
    "\n",
    "# https://pages.cs.wisc.edu/~chaol/data/cs777/stam-stable_fluids.pdf\n",
    "# https://cg.informatik.uni-freiburg.de/intern/seminar/gridFluids_GPU_Gems.pdf\n",
    "\n",
    "def navier_stokes(x_range, n, t_max, iters, init_U_func, F, samples,viscosity=-10):\n",
    "    dx = (x_range[1] - x_range[0]) / n\n",
    "    dt = t_max / iters\n",
    "    sample_freq = iters//samples\n",
    "    # this is going to be the matrix that we use to capture \"snapshots\" of U throughout our simulation\n",
    "    V = np.zeros((samples + 1, n, n), dtype=(float,2))\n",
    "    # this is the matrix that we will use to track the velocity of each discrete chunk of our simulation \n",
    "    U = np.zeros((3, n, n), dtype=(float,2))\n",
    "    #sample_freq = iters/\n",
    "    U[0] = np.array([[init_U_func(x_range[0] + dx*i, x_range[0] + dx*j) for i in range(n)] for j in range(n)])\n",
    "    U[1] = U[0]\n",
    "    # save our first sample\n",
    "    V[0] = U[0]\n",
    "    # construct indices for U\n",
    "    col_idx, row_idx = np.meshgrid(np.arange(0, U.shape[1]), np.arange(0, U.shape[2]))\n",
    "\n",
    "    # make a matrix representing the descretized laplace operator:\n",
    "    # https://en.wikipedia.org/wiki/Discrete_Poisson_equation\n",
    "    # we have to decrement n because we will only be solving for our simulation's INTERIOR points. The boundary points\n",
    "    # will be adjusted later in accordance with a boundary condition\n",
    "    n -= 2\n",
    "    diagonals = [\n",
    "        [4] * n,\n",
    "        [-1] * (n-1),\n",
    "        [-1] * (n-1)\n",
    "    ]\n",
    "    offsets = np.array([0,1,-1])\n",
    "    # this is the block triangular matrix that will compose the poisson matrix\n",
    "    D_sparse = diags_array(diagonals, offsets=offsets, format='csc')\n",
    "    offdiag1 = diags_array([[-1] * (n**2 - n)], offsets=[n], format='csc')\n",
    "    offdiag2 = diags_array([[-1] * (n**2 - n)], offsets=[-n], format='csc')\n",
    "    # construct our final poisson matrix using a kronecker product\n",
    "    # https://en.wikipedia.org/wiki/Kronecker_product\n",
    "    poisson_mat_sparse = kron(identity(n), D_sparse, format='csc') + offdiag1 + offdiag2\n",
    "    poisson_mat_sparse /= -(dx*dx)\n",
    "    # calculate the inverse of our poisson matrix this will make solving this system repeatedly very easy\n",
    "    poisson_inv = splu(poisson_mat_sparse)\n",
    "\n",
    "    # make a matrix representing the implicit diffusion step:\n",
    "    sparse_diffusion_matrix = identity(n*n, format='csc') - viscosity*dt*poisson_mat_sparse\n",
    "    # find its inverse (we will be solving this system repeatedly, so this makes sense)\n",
    "    diffusion_inv = splu(sparse_diffusion_matrix)\n",
    "    # increment n back to what it was.\n",
    "    n+=2\n",
    "    # run our simulation\n",
    "    for i in tqdm(range(0, iters), total=iters, desc=\"Navier-Stokes Solver\"):\n",
    "        W1 = U[1]\n",
    "        U[2] = W1\n",
    "        ########################################    ADVECTION    ################################################\n",
    "        # find the index of each particle's velocity one step ago:\n",
    "        row_shift = row_idx[1:-1, 1:-1] - W1[1:-1, 1:-1, 0] * dt / dx\n",
    "        col_shift = col_idx[1:-1, 1:-1] - W1[1:-1, 1:-1, 1] * dt / dx\n",
    "        row_shift = np.around(row_shift,0)\n",
    "        col_shift = np.around(col_shift,0)\n",
    "        \n",
    "        # make sure that we aren't looking off the edge of the simulation. It should use boundary conditions in the case where the velocity is too far away\n",
    "        row_shift = np.clip(row_shift.astype(int), 0, W1.shape[0] - 1)\n",
    "        col_shift = np.clip(col_shift.astype(int), 0, W1.shape[1] - 1)\n",
    "        # update our velocity in accordance with advection\n",
    "        U[2, 1:-1, 1:-1]= W1[row_shift, col_shift]\n",
    "        W2 = U[2]\n",
    "        force =  F(x_range[0] + row_idx*dx, x_range[0] + col_idx*dx, i*dt)\n",
    "        W2[:, :, 0] += force[0]\n",
    "        W2[:, :, 1] += force[1]\n",
    "        #######################################     DIFFUSION     #################################################\n",
    "        # implicit derivation yayy:\n",
    "        W2_x = diffusion_inv.solve(W2[1:-1, 1:-1, 0].flatten('C')).reshape(W2[1:-1, 1:-1, 0].shape, order='C')\n",
    "        W2_y = diffusion_inv.solve(W2[1:-1, 1:-1, 1].flatten('C')).reshape(W2[1:-1, 1:-1, 1].shape, order='C')\n",
    "        #print(np.sum(np.abs(W2_x - W2_x_cg)))\n",
    "        W2[1:-1, 1:-1, 0] = W2_x\n",
    "        W2[1:-1, 1:-1, 1] = W2_y\n",
    "        \n",
    "        U[2] = W2\n",
    "        ######################################      PROJECTION     ######################################################\n",
    "        W3 = U[2]\n",
    "        # calculate pressure using the poisson pressure equation\n",
    "        div_W3 = ((W3[2:, 1:-1, 0] - W3[0:-2, 1:-1, 0]) / (2*dx)) + ((W3[1:-1, 2:, 1] - W3[1:-1, :-2, 1]) /(2*dx))\n",
    "        # solve for our pressure field\n",
    "        p = poisson_inv.solve(div_W3.flatten('C')).reshape(div_W3.shape, order='C')\n",
    "        # find the gradient of our pressure field\n",
    "        div_px = (p[2:, 1:-1] - p[0:-2, 1:-1])/(2*dx)\n",
    "        div_py = (p[1:-1, 2:] - p[1:-1, 0:-2])/(2*dx)\n",
    "        div_p = np.dstack((div_px, div_py))\n",
    "\n",
    "        W4 = W3[2:-2, 2:-2] - div_p\n",
    "        U[2, 2:-2, 2:-2] = W4\n",
    "        \n",
    "        # update our boundary conditions\n",
    "        U[2, 0, 2:-2] = U[2, 1, 2:-2] # top boundary\n",
    "        U[2, -1, 2:-2] = U[2, -2, 2:-2] # bottom boundary\n",
    "        U[2, 2:-2, 0] = U[2, 2:-2, 1] # left boundary\n",
    "        U[2, 2:-2, -1] = U[2, 2:-2, -2]  # right boundary\n",
    "\n",
    "        # shift \n",
    "        U[0] = U[1]\n",
    "        U[1] = U[2]\n",
    "        # if its time to save a sample, do it\n",
    "        if i % sample_freq == 0:\n",
    "            V[int(i // sample_freq)+1] = U[1]\n",
    "\n",
    "    return V\n",
    "\n",
    "def F (x,y,t): \n",
    "    #res = (np.cos(t*5)*x, np.cos(t*5)*y)\n",
    "    interval = 5 * np.pi/0.01 \n",
    "    return ( 1 - ((x/100)*np.sin(t*interval)), 1 - (y/100*np.sin(t*interval)) )\n"
   ]
  },
  {
   "cell_type": "markdown",
   "metadata": {},
   "source": [
    "## Define forcing functions"
   ]
  },
  {
   "cell_type": "code",
   "execution_count": 131,
   "metadata": {},
   "outputs": [],
   "source": [
    "def pulse_func(X, Y, t, pulse_period=0.03, pulse_amplitude=100, pulse_duration=0.1, width=0.2):\n",
    "    \"\"\"\n",
    "    Generate periodic pulses from the center of the domain.\n",
    "\n",
    "    Args:\n",
    "        x (np.ndarray): X-coordinates of the domain.\n",
    "        y (np.ndarray): Y-coordinates of the domain.\n",
    "        t (float): Current time step.\n",
    "        domain_size (float): Size of the domain.\n",
    "        n (int): Number of grid points in each dimension.\n",
    "        pulse_period (float): Period of the pulses.\n",
    "        pulse_amplitude (float, optional): Amplitude of the pulses. Default is 1.0.\n",
    "        pulse_width (float, optional): Width of the pulses as a fraction of the domain size. Default is 0.2.\n",
    "\n",
    "    Returns:\n",
    "        tuple: A tuple containing the x and y components of the velocity field.\n",
    "    \"\"\"\n",
    "\n",
    "    u = np.zeros_like(X)\n",
    "    v = np.zeros_like(Y)\n",
    "\n",
    "    if t > 0.2:\n",
    "        return u, v\n",
    "\n",
    "    pulse_radius = pulse_width * X[-1][-1] / 2\n",
    "    pulse_center_x = pulse_center_y = 0.25\n",
    "\n",
    "    # calculate the distance from the center\n",
    "    dist = np.sqrt((X - pulse_center_x)**2 + (Y - pulse_center_y)**2)\n",
    "\n",
    "    # generate pulses\n",
    "    pulse_phase = t/0.3  # Normalize time to [0, 1) range\n",
    "    #print(pulse_phase)\n",
    "    pulse_strength = pulse_amplitude * np.exp(-((pulse_phase - 0.5) / (0.5 * pulse_duration))**2)\n",
    "    pulse_phase = t/1  # Normalize time to [0, 1) range\n",
    "    pulse_strength += pulse_amplitude * np.exp(-((pulse_phase - 0.5) / (0.5 * pulse_duration))**2)\n",
    "\n",
    "    #print(t, pulse_strength)\n",
    "    pulse_mask = (dist < pulse_radius)\n",
    "\n",
    "\n",
    "    u[pulse_mask] = pulse_strength\n",
    "    v[pulse_mask] = pulse_strength\n",
    "\n",
    "\n",
    "    pulse_center_x = pulse_center_y = -0.15\n",
    "    # calculate the distance from the center\n",
    "    dist = np.sqrt((X - pulse_center_x)**2 + (Y - pulse_center_y)**2)\n",
    "    pulse_strength = pulse_amplitude * np.exp(-((pulse_phase - 0.5) / (0.5 * pulse_duration))**2)\n",
    "    pulse_mask = (dist < pulse_radius)\n",
    "    u[pulse_mask] = pulse_strength\n",
    "    v[pulse_mask] = pulse_strength\n",
    "\n",
    "\n",
    "    return u, v\n",
    "\n",
    "no_force = lambda t,x,y: (np.zeros_like(x), np.zeros_like(y))\n",
    "\n",
    "def circ(X, Y, t, t_max=3, amplitude=5, width=0.06):\n",
    "    u = np.zeros_like(X)\n",
    "    v = np.zeros_like(Y)\n",
    "    mag = np.sqrt(X**2 + Y**2)\n",
    "\n",
    "\n",
    "    pulse_center_x = 0.4*np.cos(t *2* np.pi/t_max)\n",
    "    pulse_center_y = 0.4*np.sin(t *2* np.pi/t_max)\n",
    "    dist = np.sqrt((X - pulse_center_x)**2 + (Y - pulse_center_y)**2)\n",
    "    pulse_mask = (dist < width)\n",
    "    u[pulse_mask] = -X[pulse_mask] * amplitude / np.clip(mag[pulse_mask], a_min=0.01, a_max=None)\n",
    "    v[pulse_mask] = -Y[pulse_mask] * amplitude / np.clip(mag[pulse_mask], a_min=0.01, a_max=None)\n",
    "    \n",
    "\n",
    "    pulse_center_x = -0.5*np.sin(0.5*t*np.pi/t_max)\n",
    "    pulse_center_y = -0.5*np.cos(0.5*t*np.pi/t_max)\n",
    "    dist = np.sqrt((X - pulse_center_x)**2 + (Y - pulse_center_y)**2)\n",
    "    pulse_mask = (dist < width)\n",
    "    u[pulse_mask] = -X[pulse_mask] * amplitude / np.clip(mag[pulse_mask], a_min=0.01, a_max=None)\n",
    "    v[pulse_mask] = -Y[pulse_mask] * amplitude / np.clip(mag[pulse_mask], a_min=0.01, a_max=None)\n",
    "    \n",
    "    \n",
    "\n",
    "    pulse_center_x = 0.9*np.sin(t *np.pi/t_max)\n",
    "    pulse_center_y = 0.9*np.cos(t *np.pi/t_max)\n",
    "    dist = np.sqrt((X - pulse_center_x)**2 + (Y - pulse_center_y)**2)\n",
    "    pulse_mask = (dist < width)\n",
    "    u[pulse_mask] = -X[pulse_mask] * amplitude / np.clip(mag[pulse_mask], a_min=0.01, a_max=None)\n",
    "    v[pulse_mask] = -Y[pulse_mask] * amplitude / np.clip(mag[pulse_mask], a_min=0.01, a_max=None)\n",
    "    \n",
    "    return u,v\n",
    "\n",
    "    \n",
    "def corners(X, Y, t_max=3, amplitude=0.3, width=0.1):\n",
    "    u = np.zeros_like(X)\n",
    "    v = np.zeros_like(Y)\n",
    "    mag = np.sqrt(X**2 + Y**2)\n",
    "\n",
    "    for center_x, center_y in [(0.7,1), (1, 0.6), (-0.5, -1), (0.7, -1), (-1, 0.75)]:\n",
    "        dist = np.sqrt((X - center_x)**2 + (Y - center_y)**2)\n",
    "        pulse_mask = (dist < width)\n",
    "        u[pulse_mask] = -X[pulse_mask] * amplitude / np.clip(mag[pulse_mask], a_min=0.01, a_max=None)\n",
    "        v[pulse_mask] = -Y[pulse_mask] * amplitude / np.clip(mag[pulse_mask], a_min=0.01, a_max=None)\n",
    "        \n",
    "    return u,v\n"
   ]
  },
  {
   "cell_type": "markdown",
   "metadata": {},
   "source": [
    "## Run the simulation"
   ]
  },
  {
   "cell_type": "code",
   "execution_count": 132,
   "metadata": {},
   "outputs": [
    {
     "name": "stdout",
     "output_type": "stream",
     "text": [
      "10.0\n"
     ]
    },
    {
     "name": "stderr",
     "output_type": "stream",
     "text": [
      "Navier-Stokes Solver: 100%|██████████| 200/200 [00:05<00:00, 37.51it/s]\n"
     ]
    }
   ],
   "source": [
    "x_range = (-1,1)\n",
    "iters = samples = 200\n",
    "n = 200\n",
    "viscosity = 0.0001\n",
    "t_max = 20\n",
    "dt = t_max / iters\n",
    "\n",
    "dx = (x_range[1] - x_range[0]) / n\n",
    "dt = t_max / iters\n",
    "print(dt/dx)\n",
    "V = navier_stokes(x_range=x_range, n=n, t_max=t_max, iters=iters, samples=samples, viscosity=viscosity, F=corners, init_U_func=lambda x,y: (-y,x))"
   ]
  },
  {
   "cell_type": "markdown",
   "metadata": {},
   "source": [
    "## Trace particles through the simulation using Runge-Kutta"
   ]
  },
  {
   "cell_type": "code",
   "execution_count": 5,
   "metadata": {},
   "outputs": [
    {
     "name": "stderr",
     "output_type": "stream",
     "text": [
      "C:\\Users\\alexm\\AppData\\Local\\Temp\\ipykernel_2412\\2766597769.py:8: DeprecationWarning: Conversion of an array with ndim > 0 to a scalar is deprecated, and will error in future. Ensure you extract a single element from your array before performing this operation. (Deprecated NumPy 1.25.)\n",
      "  x1 = max(min(int(np.round(y[0]/dx)), V.shape[1]-1),0)\n",
      "C:\\Users\\alexm\\AppData\\Local\\Temp\\ipykernel_2412\\2766597769.py:9: DeprecationWarning: Conversion of an array with ndim > 0 to a scalar is deprecated, and will error in future. Ensure you extract a single element from your array before performing this operation. (Deprecated NumPy 1.25.)\n",
      "  x2 = max(min(int(np.round(y[0]/dx)), V.shape[2]-1),0)\n"
     ]
    },
    {
     "data": {
      "image/png": "[encoded data removed]",
      "text/plain": [
       "<Figure size 800x600 with 1 Axes>"
      ]
     },
     "metadata": {},
     "output_type": "display_data"
    }
   ],
   "source": [
    "from scipy.integrate import solve_ivp\n",
    "particles = 100\n",
    "dx = (x_range[1] - x_range[0]) / n\n",
    "dt = t_max/n\n",
    "\n",
    "def f(t_real,y):\n",
    "    t = max(min(int(np.round(t_real/dt)), V.shape[0]-1),0)\n",
    "    x1 = max(min(int(np.round(y[0]/dx)), V.shape[1]-1),0)\n",
    "    x2 = max(min(int(np.round(y[0]/dx)), V.shape[2]-1),0)\n",
    "    res = V[t,x1,x2]\n",
    "    return res\n",
    "\n",
    "\n",
    "\n",
    "trajectories = []\n",
    "for i in range(particles):\n",
    "    y0 = np.random.uniform(low=x_range[0], high=x_range[1], size=2)\n",
    "   # print(y0)\n",
    "    traj = solve_ivp(f, t_span=(0,t_max), y0=y0, vectorized=True, max_step=0.1).y\n",
    "    trajectories.append(traj)\n",
    "\n",
    "\n",
    "fig, ax = plt.subplots(figsize=(8, 6))\n",
    "#print(trajectories)\n",
    "for i in range(particles):\n",
    "    x = trajectories[i][0]\n",
    "    y = trajectories[i][1]\n",
    "    ax.plot(x, y, '-', alpha=0.5)\n",
    "\n",
    "ax.set_xlabel('X')\n",
    "ax.set_ylabel('Y')\n",
    "ax.set_title('Particle Trajectories')\n",
    "ax.set_aspect('equal')  # Set equal aspect ratio for better visualization\n",
    "plt.show()\n"
   ]
  },
  {
   "cell_type": "markdown",
   "metadata": {},
   "source": [
    "## View the result in the interactive viewer"
   ]
  },
  {
   "cell_type": "code",
   "execution_count": 133,
   "metadata": {},
   "outputs": [
    {
     "data": {
      "application/vnd.jupyter.widget-view+json": {
       "model_id": "4a907da5b80b4f53b9e9745ebfa95cdd",
       "version_major": 2,
       "version_minor": 0
      },
      "text/plain": [
       "interactive(children=(IntSlider(value=100, description='frame', max=200, step=2), Output()), _dom_classes=('wi…"
      ]
     },
     "metadata": {},
     "output_type": "display_data"
    },
    {
     "data": {
      "text/plain": [
       "<function __main__.animate(frame)>"
      ]
     },
     "execution_count": 133,
     "metadata": {},
     "output_type": "execute_result"
    }
   ],
   "source": [
    "from ipywidgets import interact\n",
    "from matplotlib.animation import FuncAnimation\n",
    "import matplotlib\n",
    "# Set up the figure and axis\n",
    "def animate(frame):\n",
    "    #ax.clear()\n",
    "    X, Y = np.meshgrid(np.linspace(x_range[0], x_range[1], V.shape[2]), np.linspace(x_range[0], x_range[1], V.shape[1]))\n",
    "    V_frame = V[frame]\n",
    "    V_x, V_y = V_frame[:, :, 0], V_frame[:, :, 1]\n",
    "    norm = np.sqrt(V_x**2 + V_y**2)  # Calculate the magnitude of the vectors\n",
    "    \n",
    "    # Plot the vector field magnitude\n",
    "    plt.imshow(norm, cmap='viridis', extent=[x_range[0], x_range[1], x_range[0], x_range[1]])\n",
    "    plt.xlabel('X')\n",
    "    plt.ylabel('Y')\n",
    "    plt.title(f'T: {np.round(frame*dt*iters/samples, 1)}s  KE: {np.round(0.5*np.sum(norm**2)*(dx**2), 1)} joules')\n",
    "    plt.colorbar()\n",
    "\n",
    "interact(animate, frame=(0, V.shape[0]-1, 2))\n"
   ]
  },
  {
   "cell_type": "markdown",
   "metadata": {},
   "source": [
    "## Save the result as an mp4 (if it's good)"
   ]
  },
  {
   "cell_type": "code",
   "execution_count": null,
   "metadata": {},
   "outputs": [],
   "source": [
    "from matplotlib.animation import writers\n",
    "import matplotlib\n",
    "# Set up the figure and axis\n",
    "matplotlib.use('Agg')  # Use the Agg backend for rendering\n",
    "dpi = 100  # Desired resolution (dots per inch)\n",
    "width, height = 1080, 1080  # Full HD resolution (adjust as needed)\n",
    "fig = plt.figure(figsize=(width / dpi, height / dpi), dpi=dpi)\n",
    "ax = fig.add_axes([0, 0, 1, 1], frameon=False)  # Add axes spanning the entire figure\n",
    "\n",
    "# Function to plot each frame\n",
    "def animate(frame):\n",
    "    frame //= 2\n",
    "    ax.clear()\n",
    "    X, Y = np.meshgrid(np.linspace(x_range[0], x_range[1], V.shape[2]), np.linspace(x_range[0], x_range[1], V.shape[1]))\n",
    "    V_frame = V[frame]\n",
    "    V_x, V_y = V_frame[:, :, 0], V_frame[:, :, 1]\n",
    "    norm = np.sqrt(V_x**2 + V_y**2)  # Calculate the magnitude of the vectors\n",
    "    \n",
    "    # Plot the vector field magnitude\n",
    "    im = ax.imshow(norm, cmap='viridis', extent=[x_range[0], x_range[1], x_range[0], x_range[1]], vmax=8)\n",
    "    ax.set_axis_off()\n",
    "    #ax.set_xlabel('X')\n",
    "    #ax.set_ylabel('Y')\n",
    "    #ax.set_title(f'T: {np.round(frame*dt*iters/samples, 4)}s  KE: {np.round(0.5*np.sum(norm**2)*(dx**2), 3)} joules')\n",
    "\n",
    "ani = FuncAnimation(fig, animate, frames=(V.shape[0]-1))\n",
    "\n",
    "# Save the animation as a GIF\n",
    "Writer = writers['ffmpeg']\n",
    "writer = Writer(fps=60, metadata=dict(artist='Me'), bitrate=1000)\n",
    "ani.save('vector_field_magnitudes3.mp4', writer=writer)\n"
   ]
  },
  {
   "cell_type": "code",
   "execution_count": null,
   "metadata": {},
   "outputs": [
    {
     "data": {
      "text/plain": [
       "2562.56016"
      ]
     },
     "execution_count": 158,
     "metadata": {},
     "output_type": "execute_result"
    }
   ],
   "source": [
    "import sys\n",
    "sys.getsizeof(V)/1e6"
   ]
  },
  {
   "cell_type": "markdown",
   "metadata": {},
   "source": [
    "## Testing"
   ]
  },
  {
   "cell_type": "code",
   "execution_count": null,
   "metadata": {},
   "outputs": [],
   "source": [
    "n+=2\n",
    "D = np.diag(-4 * np.ones(n-2)) + np.diag(np.ones(n-3), -1) + np.diag(np.ones(n-3), 1) \n",
    "poisson_mat = np.kron(np.eye(n-2), D) \n",
    "poisson_mat += np.diag(np.ones(poisson_mat.shape[1] - D.shape[1]), D.shape[1])\n",
    "poisson_mat += np.diag(np.ones(poisson_mat.shape[0] - D.shape[0]), -D.shape[0]) \n",
    "lu_res = np.linalg.solve(poisson_mat, b) \n"
   ]
  },
  {
   "cell_type": "code",
   "execution_count": null,
   "metadata": {},
   "outputs": [],
   "source": [
    "from scipy.sparse import diags_array,identity, kron\n",
    "from scipy.sparse.linalg import spilu, cg, bicgstab, LinearOperator\n",
    "import numpy as np\n",
    "import time\n",
    "n=500\n",
    "\n",
    "# D = np.diag(-4 * np.ones(n-2)) + np.diag(np.ones(n-3), -1) + np.diag(np.ones(n-3), 1)\n",
    "# poisson_mat = np.kron(np.eye(n-2), D)\n",
    "# poisson_mat += np.diag(np.ones(poisson_mat.shape[1] - D.shape[1]), D.shape[1])\n",
    "# poisson_mat += np.diag(np.ones(poisson_mat.shape[0] - D.shape[0]), -D.shape[0])\n",
    "# lu_solve = np.linalg.solve(poisson_mat, b)\n",
    "n -= 2\n",
    "N = n*n\n",
    "b = np.random.uniform(low=-1, high=1, size=N)\n",
    "diagonals = [\n",
    "    [4] * n,\n",
    "    [-1] * (n-1),\n",
    "    [-1] * (n-1)\n",
    "]\n",
    "offsets = np.array([0,1,-1])\n",
    "D_sparse = diags_array(diagonals, offsets=offsets, format='csc')\n",
    "offdiag1 = diags_array([[-1] * (n**2 - n)], offsets=[n], format='csc')\n",
    "offdiag2 = diags_array([[-1] * (n**2 - n)], offsets=[-n], format='csc')\n",
    "poisson_mat_sparse = kron(identity(n), D_sparse, format='csc') + offdiag1 + offdiag2\n",
    "\n",
    "start = time.time()\n",
    "# https://stackoverflow.com/questions/46876951/sparse-matrix-solver-with-preconditioner\n",
    "lu = splu(poisson_mat_sparse)\n",
    "cg_solve = bicgstab(A=poisson_mat_sparse, b=b)[0]\n",
    "\n",
    "print(f'cg solve in {time.time() - start}')\n",
    "#print(f'summed diff: {np.sum(np.abs(cg_solve) - np.abs(lu_solve))}')"
   ]
  },
  {
   "cell_type": "code",
   "execution_count": null,
   "metadata": {},
   "outputs": [
    {
     "ename": "AttributeError",
     "evalue": "'NoneType' object has no attribute 'step'",
     "output_type": "error",
     "traceback": [
      "\u001b[1;31m---------------------------------------------------------------------------\u001b[0m",
      "\u001b[1;31mAttributeError\u001b[0m                            Traceback (most recent call last)",
      "Cell \u001b[1;32mIn[36], line 6\u001b[0m\n\u001b[0;32m      1\u001b[0m A \u001b[38;5;241m=\u001b[39m np\u001b[38;5;241m.\u001b[39marray([\n\u001b[0;32m      2\u001b[0m     [[\u001b[38;5;241m-\u001b[39m\u001b[38;5;241m1\u001b[39m,\u001b[38;5;241m-\u001b[39m\u001b[38;5;241m1\u001b[39m], [\u001b[38;5;241m0\u001b[39m,\u001b[38;5;241m0\u001b[39m], [\u001b[38;5;241m0\u001b[39m,\u001b[38;5;241m0\u001b[39m]],\n\u001b[0;32m      3\u001b[0m     [[\u001b[38;5;241m0\u001b[39m,\u001b[38;5;241m0\u001b[39m], [\u001b[38;5;241m-\u001b[39m\u001b[38;5;241m1\u001b[39m,\u001b[38;5;241m-\u001b[39m\u001b[38;5;241m1\u001b[39m], [\u001b[38;5;241m1\u001b[39m,\u001b[38;5;241m-\u001b[39m\u001b[38;5;241m1\u001b[39m]],\n\u001b[0;32m      4\u001b[0m     [[\u001b[38;5;241m0\u001b[39m,\u001b[38;5;241m0\u001b[39m], [\u001b[38;5;241m0\u001b[39m,\u001b[38;5;241m0\u001b[39m], [\u001b[38;5;241m0\u001b[39m,\u001b[38;5;241m1\u001b[39m]]\n\u001b[0;32m      5\u001b[0m ])\n\u001b[1;32m----> 6\u001b[0m idx\u001b[38;5;241m=\u001b[39m \u001b[43mnp\u001b[49m\u001b[38;5;241;43m.\u001b[39;49m\u001b[43mmgrid\u001b[49m\u001b[43m[\u001b[49m\u001b[43mnp\u001b[49m\u001b[38;5;241;43m.\u001b[39;49m\u001b[43mnewaxis\u001b[49m\u001b[43m,\u001b[49m\u001b[43m \u001b[49m\u001b[38;5;241;43m0\u001b[39;49m\u001b[43m:\u001b[49m\u001b[43mA\u001b[49m\u001b[38;5;241;43m.\u001b[39;49m\u001b[43mshape\u001b[49m\u001b[43m[\u001b[49m\u001b[38;5;241;43m0\u001b[39;49m\u001b[43m]\u001b[49m\u001b[43m,\u001b[49m\u001b[43m \u001b[49m\u001b[38;5;241;43m0\u001b[39;49m\u001b[43m:\u001b[49m\u001b[43mA\u001b[49m\u001b[38;5;241;43m.\u001b[39;49m\u001b[43mshape\u001b[49m\u001b[43m[\u001b[49m\u001b[38;5;241;43m1\u001b[39;49m\u001b[43m]\u001b[49m\u001b[43m]\u001b[49m\n\u001b[0;32m      7\u001b[0m \u001b[38;5;28mprint\u001b[39m(idx)\n\u001b[0;32m      8\u001b[0m \u001b[38;5;66;03m#print(col_idx)\u001b[39;00m\n\u001b[0;32m      9\u001b[0m \u001b[38;5;66;03m#print(A[:,:,1])\u001b[39;00m\n",
      "File \u001b[1;32mc:\\Python311\\Lib\\site-packages\\numpy\\lib\\index_tricks.py:154\u001b[0m, in \u001b[0;36mnd_grid.__getitem__\u001b[1;34m(self, key)\u001b[0m\n\u001b[0;32m    152\u001b[0m num_list \u001b[38;5;241m=\u001b[39m [\u001b[38;5;241m0\u001b[39m]\n\u001b[0;32m    153\u001b[0m \u001b[38;5;28;01mfor\u001b[39;00m k \u001b[38;5;129;01min\u001b[39;00m \u001b[38;5;28mrange\u001b[39m(\u001b[38;5;28mlen\u001b[39m(key)):\n\u001b[1;32m--> 154\u001b[0m     step \u001b[38;5;241m=\u001b[39m \u001b[43mkey\u001b[49m\u001b[43m[\u001b[49m\u001b[43mk\u001b[49m\u001b[43m]\u001b[49m\u001b[38;5;241;43m.\u001b[39;49m\u001b[43mstep\u001b[49m\n\u001b[0;32m    155\u001b[0m     start \u001b[38;5;241m=\u001b[39m key[k]\u001b[38;5;241m.\u001b[39mstart\n\u001b[0;32m    156\u001b[0m     stop \u001b[38;5;241m=\u001b[39m key[k]\u001b[38;5;241m.\u001b[39mstop\n",
      "\u001b[1;31mAttributeError\u001b[0m: 'NoneType' object has no attribute 'step'"
     ]
    }
   ],
   "source": [
    "A = np.array([\n",
    "    [[-1,-1], [0,0], [0,0]],\n",
    "    [[0,0], [-1,-1], [1,-1]],\n",
    "    [[0,0], [0,0], [0,1]]\n",
    "])\n",
    "idx= np.mgrid[0:A.shape[0], 0:A.shape[1]]\n",
    "print(idx)\n",
    "#print(col_idx)\n",
    "#print(A[:,:,1])\n",
    "shift = idx - A[:,:]\n",
    "# update our velocity in accordance with advection\n",
    "A[shift]\n"
   ]
  }
 ],
 "metadata": {
  "kernelspec": {
   "display_name": "Python 3",
   "language": "python",
   "name": "python3"
  },
  "language_info": {
   "codemirror_mode": {
    "name": "ipython",
    "version": 3
   },
   "file_extension": ".py",
   "mimetype": "text/x-python",
   "name": "python",
   "nbconvert_exporter": "python",
   "pygments_lexer": "ipython3",
   "version": "3.11.5"
  }
 },
 "nbformat": 4,
 "nbformat_minor": 2
}
